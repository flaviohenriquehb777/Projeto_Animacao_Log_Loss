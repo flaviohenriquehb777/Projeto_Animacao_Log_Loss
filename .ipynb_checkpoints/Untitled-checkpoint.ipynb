{
 "cells": [
  {
   "cell_type": "code",
   "execution_count": 1,
   "id": "6a36ee9b-0f78-423d-8bbb-84b20ab4fbdd",
   "metadata": {},
   "outputs": [],
   "source": [
    "import numpy as np\n",
    "import matplotlib.pyplot as plt\n",
    "from matplotlib.animation import FuncAnimation\n",
    "from scipy.optimize import minimize_scalar"
   ]
  },
  {
   "cell_type": "code",
   "execution_count": 2,
   "id": "3c4c31d1-1f4d-4544-85dd-9326e550474c",
   "metadata": {},
   "outputs": [],
   "source": [
    "# 1. Definir uma função de log-loss de exemplo\n",
    "def log_loss(w):\n",
    "    return (w - 2)**2 + 3"
   ]
  },
  {
   "cell_type": "code",
   "execution_count": 3,
   "id": "3cb7f1bb-0ea3-422a-aea1-24430f772b2f",
   "metadata": {},
   "outputs": [],
   "source": [
    "# 2. Encontrar o mínimo da função\n",
    "result = minimize_scalar(log_loss)\n",
    "w_optimal = result.x\n",
    "log_loss_optimal = log_loss(w_optimal)"
   ]
  },
  {
   "cell_type": "code",
   "execution_count": 4,
   "id": "8885a210-b8f9-47a4-9d9b-39a05d8ae7f8",
   "metadata": {},
   "outputs": [],
   "source": [
    "# 3. Gerar uma série de valores de 'w' para simular a otimização\n",
    "w_range = np.linspace(-1, 5, 100)\n",
    "log_loss_values = [log_loss(w) for w in w_range]"
   ]
  },
  {
   "cell_type": "code",
   "execution_count": 5,
   "id": "e59f73d7-8d59-4fa2-802d-7e1ef5ad09f4",
   "metadata": {},
   "outputs": [],
   "source": [
    "# 4. Criar a figura e os eixos\n",
    "fig, ax = plt.subplots()\n",
    "line, = ax.plot([], [], 'r-', label='Log Loss')\n",
    "point, = ax.plot([], [], 'bo', markersize=8, label='Ponto Atual')\n",
    "optimal_point, = ax.plot([w_optimal], [log_loss_optimal], 'go', markersize=8, label='Mínimo Ideal')\n",
    "ax.set_xlabel('Parâmetro (w)')\n",
    "ax.set_ylabel('Log Loss')\n",
    "ax.set_title('Otimização da Log Loss')\n",
    "ax.legend()\n",
    "ax.grid(True)\n",
    "\n",
    "plt.close()"
   ]
  },
  {
   "cell_type": "code",
   "execution_count": 6,
   "id": "710e0d63-ce03-4927-8171-3e5e9e6f1901",
   "metadata": {},
   "outputs": [],
   "source": [
    "# 5. Função de animação\n",
    "def animate(i):\n",
    "    w_current = w_range[i]\n",
    "    log_loss_current = log_loss(w_current)\n",
    "    line.set_data(w_range[:i+1], log_loss_values[:i+1])\n",
    "    point.set_data([w_current], [log_loss_current])  # <-- CORRIGIDO\n",
    "    ax.relim()\n",
    "    ax.autoscale_view()\n",
    "    return line, point"
   ]
  },
  {
   "cell_type": "code",
   "execution_count": 7,
   "id": "f87dc516-8d19-4ec1-8777-f61c7ce09047",
   "metadata": {},
   "outputs": [],
   "source": [
    "# 6. Criar a animação\n",
    "num_frames = len(w_range)\n",
    "ani = FuncAnimation(fig, animate, frames=num_frames, interval=100, blit=True)"
   ]
  },
  {
   "cell_type": "code",
   "execution_count": 8,
   "id": "65191ed2-1566-4786-afb7-40aff2e669bb",
   "metadata": {},
   "outputs": [
    {
     "name": "stdout",
     "output_type": "stream",
     "text": [
      "Animação salva em: log_loss_optimization.gif\n"
     ]
    }
   ],
   "source": [
    "# 7. Salvar a animação\n",
    "output_path = 'log_loss_optimization.gif'\n",
    "ani.save(output_path, writer='pillow', fps=15)\n",
    "\n",
    "print(f\"Animação salva em: {output_path}\")"
   ]
  }
 ],
 "metadata": {
  "kernelspec": {
   "display_name": "Python 3 (ipykernel)",
   "language": "python",
   "name": "python3"
  },
  "language_info": {
   "codemirror_mode": {
    "name": "ipython",
    "version": 3
   },
   "file_extension": ".py",
   "mimetype": "text/x-python",
   "name": "python",
   "nbconvert_exporter": "python",
   "pygments_lexer": "ipython3",
   "version": "3.12.3"
  }
 },
 "nbformat": 4,
 "nbformat_minor": 5
}
